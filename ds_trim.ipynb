{
 "cells": [
  {
   "cell_type": "markdown",
   "id": "e3f4bd8a-8e44-4f9a-ae20-796352120142",
   "metadata": {},
   "source": [
    "### Library Imports\n",
    "\n",
    "Imports standard Python libraries used for file handling, data manipulation, and organization:\n",
    "\n",
    "- `pandas`: For reading and manipulating CSV/tabular data.\n",
    "- `os`: For filesystem operations like path handling and directory checks.\n",
    "- `shutil`: For high-level file operations (e.g., copying files).\n",
    "- `random`: For random sampling and shuffling.\n",
    "- `defaultdict` (from `collections`): For grouping items with default list behavior."
   ]
  },
  {
   "cell_type": "code",
   "execution_count": null,
   "id": "00bef0f9-00b7-43f8-bbe7-985c3d2061c7",
   "metadata": {},
   "outputs": [],
   "source": [
    "import pandas as pd\n",
    "import os\n",
    "import shutil\n",
    "import random\n",
    "from collections import defaultdict"
   ]
  },
  {
   "cell_type": "markdown",
   "id": "8d015ed6-b179-44c5-be39-bc1eb8ffe306",
   "metadata": {},
   "source": [
    "### Load Dataset and Count Positive Cancer Cases\n",
    "\n",
    "- Loads the dataset from `input/train.csv` into a DataFrame `df`.\n",
    "- Counts the number of rows where the `cancer` label is `1` (i.e., positive cases).\n",
    "- Prints the total number of cancer-positive images."
   ]
  },
  {
   "cell_type": "code",
   "execution_count": 1,
   "id": "19800b07-4669-4dbf-bcd4-7cadb331d34f",
   "metadata": {},
   "outputs": [
    {
     "name": "stdout",
     "output_type": "stream",
     "text": [
      "Total cancer=1 images: 1158\n"
     ]
    }
   ],
   "source": [
    "df = pd.read_csv('input/train.csv')\n",
    "\n",
    "# Count the number of images labeled cancer=1\n",
    "num_cancer_1_images = (df['cancer'] == 1).sum()\n",
    "\n",
    "print(f\"Total cancer=1 images: {num_cancer_1_images}\")"
   ]
  },
  {
   "cell_type": "markdown",
   "id": "f41686f4-34b3-4413-b0b8-3775aed17d30",
   "metadata": {},
   "source": [
    "### Identify Patients with Conflicting Cancer Labels\n",
    "\n",
    "- Loads the dataset from `input/train.csv`.\n",
    "- Groups the data by `patient_id` and counts the number of **unique cancer labels** per patient.\n",
    "- Filters for patients who have **both `cancer=0` and `cancer=1`** labels (i.e., `nunique() > 1`).\n",
    "- Prints:\n",
    "  - The number of such patients.\n",
    "  - A list of their `patient_id`s."
   ]
  },
  {
   "cell_type": "code",
   "execution_count": 2,
   "id": "19693e02-8148-4876-b3d1-f9dca96ff778",
   "metadata": {},
   "outputs": [
    {
     "name": "stdout",
     "output_type": "stream",
     "text": [
      "Number of patients with mixed labels: 480\n",
      "Patient IDs with mixed labels:\n",
      "[106, 236, 283, 500, 729, 826, 865, 1025, 1109, 1336, 1524, 1703, 1775, 1878, 1963, 2133, 2179, 2346, 2489, 2679, 2938, 2989, 3021, 3346, 3510, 3542, 3568, 3626, 3670, 3713, 4083, 4202, 4340, 4696, 4824, 4888, 4917, 4953, 5059, 5235, 5444, 5608, 5769, 5820, 5878, 5911, 6018, 6038, 6107, 6303, 6637, 6658, 6659, 6668, 6853, 7053, 7151, 7196, 7339, 7493, 7780, 7964, 8248, 8403, 8631, 8641, 8675, 8732, 9010, 9014, 9029, 9167, 9201, 9345, 9481, 9559, 9707, 9840, 9851, 10130, 10226, 10432, 10589, 10635, 10638, 10668, 10940, 11094, 11249, 11341, 11365, 11817, 11919, 11937, 12153, 12195, 12258, 12282, 12305, 12392, 12463, 12485, 12522, 12651, 12725, 12918, 12988, 13101, 13116, 13267, 13331, 13463, 13756, 13845, 13920, 14292, 14327, 14706, 14769, 14941, 14962, 15078, 15268, 15696, 15945, 16145, 16249, 16346, 16451, 16639, 16668, 16694, 16703, 16955, 17222, 17535, 17562, 17891, 17894, 18026, 18316, 18399, 18421, 18709, 18839, 19003, 19028, 19064, 19159, 19171, 19182, 19486, 19750, 20009, 20053, 20251, 20923, 21067, 21315, 21445, 21720, 21867, 21880, 21888, 21923, 21928, 21957, 22502, 22562, 22616, 22860, 22948, 23101, 23224, 23386, 23693, 24240, 24643, 24656, 24916, 24947, 25178, 25187, 25323, 25423, 25432, 25523, 25550, 25679, 25709, 25895, 25909, 26048, 26232, 26664, 26700, 26862, 26871, 26974, 27275, 27344, 27827, 27861, 27890, 28057, 28344, 28383, 28620, 28634, 28747, 28748, 28785, 28936, 28989, 28996, 29664, 29919, 29986, 30093, 30094, 30262, 30317, 30363, 30435, 30836, 30842, 31046, 31107, 31167, 31364, 31581, 31582, 31745, 31750, 31864, 32057, 32087, 32252, 32517, 32527, 32582, 32668, 32740, 32743, 32770, 32801, 32881, 32911, 32923, 32957, 33583, 33588, 33594, 33639, 33971, 34053, 34204, 34391, 34676, 34823, 34962, 34987, 34991, 34992, 34993, 35227, 35641, 35847, 35864, 36034, 36174, 36420, 36660, 36706, 36748, 37012, 37032, 37163, 37213, 37459, 37573, 37724, 37836, 37931, 38040, 38123, 38311, 38537, 38727, 38946, 39085, 39280, 39355, 39401, 39611, 39677, 39702, 39723, 39747, 39748, 39920, 40163, 40496, 40511, 40576, 40774, 41010, 41238, 41359, 41530, 41584, 41610, 42160, 42414, 42581, 42746, 42857, 43004, 43595, 43880, 44062, 44121, 44225, 44676, 44709, 44780, 44836, 45441, 45666, 45810, 45848, 46014, 46090, 46095, 46106, 46225, 46274, 46309, 46495, 46905, 47055, 47128, 47129, 47171, 47212, 47280, 47382, 47404, 47673, 47794, 48001, 48171, 48230, 48350, 48368, 48437, 48493, 48852, 48939, 49176, 49313, 49316, 49461, 49485, 49520, 49523, 49636, 49927, 49954, 50078, 50248, 50250, 50328, 50583, 50600, 50644, 50740, 50741, 51276, 51498, 51609, 51697, 52056, 52181, 52199, 53115, 53255, 53272, 53343, 53358, 53360, 53394, 53636, 53659, 53727, 53776, 53946, 54084, 54085, 54492, 54671, 54930, 55095, 55147, 55148, 55301, 55483, 55755, 55842, 55879, 56139, 56308, 56328, 56491, 56713, 56813, 57153, 57216, 57218, 57229, 57444, 57525, 57623, 57737, 57754, 58195, 58398, 58564, 58652, 58825, 59322, 59347, 59530, 59806, 59865, 60001, 60033, 60410, 60442, 60519, 60617, 60629, 60653, 60964, 61019, 61046, 61292, 61490, 61560, 61568, 61825, 62401, 62608, 62955, 62996, 63053, 63056, 63226, 63453, 63706, 64018, 64055, 64385, 64437, 64439, 64449, 64456, 64534, 64722, 64821, 64908, 64930, 64956, 65077, 65198, 65222, 65224, 65244, 65427, 65492]\n"
     ]
    }
   ],
   "source": [
    "# Load your original dataset\n",
    "df = pd.read_csv('input/train.csv')\n",
    "\n",
    "# Group by patient_id and check unique cancer labels\n",
    "mixed_patients = df.groupby('patient_id')['cancer'].nunique()\n",
    "\n",
    "# Select patients where there are more than 1 unique label\n",
    "mixed_patients = mixed_patients[mixed_patients > 1]\n",
    "\n",
    "print(f\"Number of patients with mixed labels: {len(mixed_patients)}\")\n",
    "print(\"Patient IDs with mixed labels:\")\n",
    "print(mixed_patients.index.tolist())"
   ]
  },
  {
   "cell_type": "markdown",
   "id": "3d3e7c84-d64e-463f-8ae5-bcd52ae03037",
   "metadata": {},
   "source": [
    "### Construct Trimmed Dataset with Balanced Negative Sampling\n",
    "\n",
    "Creates a trimmed version of the dataset by reducing the number of negative (cancer=0) samples, while preserving all positive cases, to achieve a roughly **5:1 negative-to-positive image ratio**:\n",
    "\n",
    "---\n",
    "\n",
    "**1. Define Paths and Load Data**:\n",
    "- Sets file paths for input and output.\n",
    "- Creates output directory `trimmed_train_images`.\n",
    "- Loads the original `train.csv`.\n",
    "\n",
    "---\n",
    "\n",
    "**2. Separate Positive and Negative Cases**:\n",
    "- `df_pos`: All positive samples (`cancer=1`) — retained fully.\n",
    "- `df_neg`: All negative samples (`cancer=0`).\n",
    "\n",
    "---\n",
    "\n",
    "**3. Group Negatives by Patient and Subsample**:\n",
    "- Maps negative images by `patient_id`.\n",
    "- Randomly shuffles patients to avoid bias.\n",
    "- Selects patients until total negative images reach ~5× the number of positive images.\n",
    "  - Adds a +200 buffer to avoid overshooting.\n",
    "\n",
    "---\n",
    "\n",
    "**4. Build and Save Trimmed Dataset**:\n",
    "- Combines all positive samples with selected negative ones.\n",
    "- Saves to `trimmed_train.csv`.\n",
    "\n",
    "---\n",
    "\n",
    "**5. Log Excluded Patients**:\n",
    "- Computes removed patients and images for transparency.\n",
    "- Saves excluded patient IDs to `trimmed_patient_ids.csv`.\n",
    "\n",
    "---\n",
    "\n",
    "**6. Copy Corresponding Image Folders**:\n",
    "- Copies image folders of retained patients from `train_images/` to `trimmed_train_images/`.\n",
    "\n",
    "---\n",
    "\n",
    "**7. Summary Report**:\n",
    "- Prints the number of patients and images retained.\n",
    "- Displays cancer label distribution in the final trimmed dataset.\n"
   ]
  },
  {
   "cell_type": "code",
   "execution_count": 3,
   "id": "2f77a949-e22a-4478-9ea3-c25c7470b089",
   "metadata": {},
   "outputs": [
    {
     "name": "stdout",
     "output_type": "stream",
     "text": [
      "Selected 1280 negative patients totaling 5792 images.\n",
      "Removed 10627 patients totaling 47756 images.\n",
      "\n",
      "--- Summary Report ---\n",
      "Patients kept: 1719\n",
      "Total images kept: 6950\n",
      "Overall Cancer Label Distribution:\n",
      "Cancer 0: 5792\n",
      "Cancer 1: 1158\n",
      "\n",
      "Trimmed images and CSV have been created successfully.\n"
     ]
    }
   ],
   "source": [
    "input_folder = 'input'\n",
    "train_csv_path = os.path.join(input_folder, 'train.csv')\n",
    "train_images_path = os.path.join(input_folder, 'train_images')\n",
    "trimmed_images_path = os.path.join(input_folder, 'trimmed_train_images')\n",
    "trimmed_csv_path = os.path.join(input_folder, 'trimmed_train.csv')\n",
    "trimmed_patients_csv_path = os.path.join(input_folder, 'trimmed_patient_ids.csv')\n",
    "\n",
    "os.makedirs(trimmed_images_path, exist_ok=True)\n",
    "df = pd.read_csv(train_csv_path)\n",
    "\n",
    "# Split positives and negatives\n",
    "df_pos = df[df['cancer'] == 1]\n",
    "df_neg = df[df['cancer'] == 0]\n",
    "\n",
    "# Group negative samples by patient_id\n",
    "patient_to_images = defaultdict(list)\n",
    "for idx, row in df_neg.iterrows():\n",
    "    patient_to_images[row['patient_id']].append(row['image_id'])\n",
    "\n",
    "# Shuffle patients\n",
    "negative_patients = list(patient_to_images.keys())\n",
    "random.shuffle(negative_patients)\n",
    "\n",
    "# Select patients until reaching approximately 5:1 ratio\n",
    "selected_patients = []\n",
    "selected_image_count = 0\n",
    "target_negatives = 5 * len(df_pos)\n",
    "\n",
    "for patient_id in negative_patients:\n",
    "    num_images = len(patient_to_images[patient_id])\n",
    "    if selected_image_count + num_images > target_negatives + 200:\n",
    "        continue\n",
    "    selected_patients.append(patient_id)\n",
    "    selected_image_count += num_images\n",
    "    if selected_image_count >= target_negatives:\n",
    "        break\n",
    "\n",
    "print(f\"Selected {len(selected_patients)} negative patients totaling {selected_image_count} images.\")\n",
    "\n",
    "# Build the new dataframe\n",
    "selected_negatives = df_neg[df_neg['patient_id'].isin(selected_patients)]\n",
    "df_trimmed = pd.concat([df_pos, selected_negatives], ignore_index=True)\n",
    "\n",
    "# Save the new CSV\n",
    "df_trimmed.to_csv(trimmed_csv_path, index=False)\n",
    "\n",
    "all_negative_patients = set(df_neg['patient_id'].unique())\n",
    "retained_negative_patients = set(selected_patients)\n",
    "removed_negative_patients = all_negative_patients - retained_negative_patients\n",
    "\n",
    "removed_df = df_neg[df_neg['patient_id'].isin(removed_negative_patients)]\n",
    "num_removed_patients = len(removed_negative_patients)\n",
    "num_removed_images = len(removed_df)\n",
    "\n",
    "print(f\"Removed {num_removed_patients} patients totaling {num_removed_images} images.\")\n",
    "\n",
    "removed_patients_df = pd.DataFrame({'patient_id': list(removed_negative_patients)})\n",
    "removed_patients_df.to_csv(trimmed_patients_csv_path, index=False)\n",
    "\n",
    "patient_ids_to_copy = df_trimmed['patient_id'].unique()\n",
    "\n",
    "for patient_id in patient_ids_to_copy:\n",
    "    src_dir = os.path.join(train_images_path, str(patient_id))\n",
    "    dest_dir = os.path.join(trimmed_images_path, str(patient_id))\n",
    "    \n",
    "    if os.path.exists(src_dir):\n",
    "        shutil.copytree(src_dir, dest_dir)\n",
    "\n",
    "final_counts = df_trimmed['cancer'].value_counts().to_dict()\n",
    "print(f\"\\n--- Summary Report ---\")\n",
    "print(f\"Patients kept: {len(patient_ids_to_copy)}\")\n",
    "print(f\"Total images kept: {len(df_trimmed)}\")\n",
    "print(f\"Overall Cancer Label Distribution:\")\n",
    "for label, count in final_counts.items():\n",
    "    print(f\"Cancer {label}: {count}\")\n",
    "print(f\"\\nTrimmed images and CSV have been created successfully.\")"
   ]
  }
 ],
 "metadata": {
  "kernelspec": {
   "display_name": "Python 3 (ipykernel)",
   "language": "python",
   "name": "python3"
  },
  "language_info": {
   "codemirror_mode": {
    "name": "ipython",
    "version": 3
   },
   "file_extension": ".py",
   "mimetype": "text/x-python",
   "name": "python",
   "nbconvert_exporter": "python",
   "pygments_lexer": "ipython3",
   "version": "3.12.9"
  }
 },
 "nbformat": 4,
 "nbformat_minor": 5
}
